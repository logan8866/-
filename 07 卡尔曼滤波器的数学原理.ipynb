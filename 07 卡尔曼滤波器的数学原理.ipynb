{
 "cells": [
  {
   "cell_type": "markdown",
   "id": "59ba8f9b",
   "metadata": {},
   "source": [
    "# 7. 卡尔曼滤波器的数学原理"
   ]
  },
  {
   "cell_type": "code",
   "execution_count": 2,
   "id": "5db9843b",
   "metadata": {},
   "outputs": [],
   "source": [
    "%matplotlib inline"
   ]
  },
  {
   "cell_type": "code",
   "execution_count": 3,
   "id": "ee51dd84",
   "metadata": {},
   "outputs": [
    {
     "data": {
      "text/html": [
       "\n",
       "        <style>\n",
       "        .output_wrapper, .output {\n",
       "            height:auto !important;\n",
       "            max-height:100000px;\n",
       "        }\n",
       "        .output_scroll {\n",
       "            box-shadow:none !important;\n",
       "            webkit-box-shadow:none !important;\n",
       "        }\n",
       "        </style>\n",
       "    "
      ],
      "text/plain": [
       "<IPython.core.display.HTML object>"
      ]
     },
     "execution_count": 3,
     "metadata": {},
     "output_type": "execute_result"
    }
   ],
   "source": [
    "#format the book\n",
    "import book_format\n",
    "book_format.set_style()"
   ]
  },
  {
   "cell_type": "markdown",
   "id": "af9c3dec",
   "metadata": {},
   "source": [
    "如果你已经读到这里，我希望你觉得卡尔曼滤波器的可怕名声有些不太应该。当然，我有忽略了一些方程，但我希望你对实现过程还是比较理解的。其基本概念相当简单——取两个测量值，或者一次测量和一次预测，然后选择输出值介于两者之间。如果你更相信测量值，你的估计会更接近测量值；如果你更相信预测更准确，你的估计会更接近它。这不是什么高深的科学（开个小玩笑——正是这种数学让阿波罗号登月并安全返回了地球！）。\n",
    "\n",
    "老实说，我一直精心选择问题。对于任意问题，设计卡尔曼滤波器的矩阵可能会非常困难。不过，我并没有搞得太复杂。像牛顿运动方程这样的方程在卡尔曼滤波器的应用中可以轻松计算，而且它们构成了我们想要解决的问题的大部分。\n",
    "\n",
    "我用代码和推理阐述了概念，而不是数学。但有些主题需要比我目前使用的数学更多。这一章介绍了你在本书后续内容中会用到的数学知识。"
   ]
  },
  {
   "cell_type": "markdown",
   "id": "8adc98b0",
   "metadata": {},
   "source": [
    "# 动态系统建模\n",
    "\n",
    "动态系统是指其状态（位置、温度等）随时间演变的物理系统。微积分是研究变化值的数学，因此我们使用微分方程来建模动态系统。有些系统无法用微分方程建模，但在本书中我们不会遇到这些系统。\n",
    "\n",
    "对动态系统建模通常是几门大学课程的主题。在某种程度上，几个学期的普通微分方程和偏微分方程，再加上一门控制系统理论的研究生课程，是无可替代的。如果你是一个业余爱好者，或者在工作中尝试解决一个非常具体的滤波问题，你可能没有时间和/或倾向去花费一年或更长时间来接受这种教育。\n",
    "\n",
    "幸运的是，我可以介绍足够的理论知识，让我们能够为许多不同的卡尔曼滤波器创建系统方程。我的目标是让你能够阅读一篇论文，并理解得足够透彻，以便实现这些算法。背景数学很深奥，但在实践中，我们最终使用了一些简单的技术。\n",
    "\n",
    "这是本书中纯数学内容最长的一部分。你需要掌握本节中的所有内容才能理解扩展卡尔曼滤波器（EKF），这是最常见的非线性滤波器。我确实介绍了一些不需要太多数学知识的更现代的滤波器。你可以选择现在快速浏览一遍，如果决定学习EKF再回头来复习。\n",
    "\n",
    "我们需要首先了解卡尔曼滤波器使用的基本方程和假设。我们试图对现实世界的现象进行建模，那么我们需要考虑什么？\n",
    "\n",
    "每个物理系统都有一个过程。例如，以特定速度行驶的汽车在固定的时间内行驶一定距离，其速度随加速度变化。我们用高中学过的著名的牛顿方程描述了这种行为。\n",
    "\n",
    "$$\n",
    "\\begin{aligned}\n",
    "v&=at\\\\\n",
    "x &= \\frac{1}{2}at^2 + v_0t + x_0\n",
    "\\end{aligned}\n",
    "$$\n",
    "\n",
    "一旦我们学了微积分，就能以这种形式看到它们：\n",
    "\n",
    "$$ \\mathbf v = \\frac{d \\mathbf x}{d t}, \n",
    "\\quad \\mathbf a = \\frac{d \\mathbf v}{d t} = \\frac{d^2 \\mathbf x}{d t^2}\n",
    "$$\n",
    "\n",
    "典型的汽车跟踪问题会让你计算在恒定速度或加速度下行驶的距离，就像我们在之前的章节中所做的那样。但是，当然我们知道实际情况并不仅限于此。没有汽车会在完美的道路上行驶。路上会有颠簸、风阻，还有山丘会使速度上下波动。\n",
    "\n",
    "排除最琐碎的问题之外完美地对系统进行建模是不可能的。我们被迫进行简化。在任何时刻$t$，我们说真实状态（比如我们的汽车位置）是来自不完美模型的预测值再加上一些未知的*过程噪声*：\n",
    "\n",
    "$$\n",
    "x(t) = x_{pred}(t) + noise(t)\n",
    "$$\n",
    "\n",
    "这并不意味着$noise(t)$是我们可以通过分析推导出的函数。这只是一个事实陈述——我们总是可以将真实值描述为预测值加上过程噪声。“噪声”并不意味着随机事件。如果我们在大气中追踪一个抛出的球，并且我们的模型假设球在真空中，那么空气阻力的影响就是在这种情况下的过程噪声。\n",
    "\n",
    "在接下来的部分，我们将学习将一组高阶微分方程转换为一组一阶微分方程的技巧。在转换后，没有噪声的系统模型是：\n",
    "\n",
    "$$ \\dot{\\mathbf x} = \\mathbf{Ax}$$\n",
    "\n",
    "矩阵 $\\mathbf A$ 被称为 *系统动态矩阵*，因为它描述了系统的动态。现在我们需要对噪声建模。我们将其称为 $\\mathbf w$，并将其添加到方程中。\n",
    "\n",
    "$$ \\dot{\\mathbf x} = \\mathbf{Ax} + \\mathbf w$$\n",
    "\n",
    "$\\mathbf w$ 这个命名可能让你觉得不太合适，但你很快就会看到，卡尔曼滤波器假设是*白噪声*。\n",
    "\n",
    "最后，我们需要考虑系统中的任何输入。我们假设有一个输入 $\\mathbf u$，并且存在一个线性模型来定义该输入如何改变系统。例如，踩汽车油门会加速汽车，重力会使球下落。这两者都是控制输入。我们需要一个矩阵 $\\mathbf B$ 将 $u$ 转换为对系统的影响，并将其添加到我们的方程中：\n",
    "\n",
    "$$ \\dot{\\mathbf x} = \\mathbf{Ax} + \\mathbf{Bu} + \\mathbf{w}$$\n",
    "\n",
    "这就是其中一个方程。卡尔曼博士尝试解决的方程之一，他找到了一个最优的估计器，如果我们假设了 $\\mathbf w$ 的某些特性。"
   ]
  },
  {
   "cell_type": "markdown",
   "id": "98988e16",
   "metadata": {},
   "source": [
    "# 动态系统状态空间的表达\n",
    "\n",
    "我们推导出了这个方程：\n",
    "\n",
    "$$ \\dot{\\mathbf x} = \\mathbf{Ax}+ \\mathbf{Bu} + \\mathbf{w}$$\n",
    "\n",
    "然而，我们对 $\\mathbf x$ 本身感兴趣，而不是它的导数。暂时忽略噪声，我们希望找到一个递归地以 $t_{k-1}$ 时刻的 $\\mathbf x$ 表达 $t_k$ 时刻 $\\mathbf x$ 值的方程：\n",
    "\n",
    "$$\\mathbf x(t_k) = \\mathbf F(\\Delta t)\\mathbf x(t_{k-1}) + \\mathbf B(t_k)\\mathbf u (t_k)$$\n",
    "\n",
    "惯例允许我们将 $\\mathbf x(t_k)$ 写成 $\\mathbf x_k$，这表示 $t$ 的第 $k$ 个值时 $\\mathbf x$ 的值。\n",
    "\n",
    "$$\\mathbf x_k = \\mathbf{Fx}_{k-1} + \\mathbf B_k\\mathbf u_k$$\n",
    "\n",
    "矩阵 $\\mathbf F$ 是我们熟悉的 *状态转移矩阵*，因为它能够在离散时间步之间转换状态的值。它与系统动态矩阵 $\\mathbf A$ 非常相似。不同之处在于 $\\mathbf A$ 模拟一组线性微分方程，是连续的。而 $\\mathbf F$ 是离散的，表示一组线性方程（不是微分方程），它在离散的时间步长 $\\Delta t$ 内将 $\\mathbf x_{k-1}$ 转换为 $\\mathbf x_k$。\n",
    "\n",
    "找到这个矩阵通常是相当困难的。方程 $\\dot x = v$ 是最简单的微分方程，我们可以轻松地对其进行积分：\n",
    "\n",
    "$$ \\int\\limits_{x_{k-1}}^{x_k}  \\mathrm{d}x = \\int\\limits_{0}^{\\Delta t} v\\, \\mathrm{d}t $$\n",
    "$$x_k-x_{k-1} = v \\Delta t$$\n",
    "$$x_k = v \\Delta t + x_{k-1}$$\n",
    "\n",
    "这个方程是*递归*的：我们根据其在 $k-1$ 时刻的值来计算 $k$ 时刻的 $x$ 值。这种递归形式使我们能够将系统（过程模型）表示为卡尔曼滤波器所需的形式：\n",
    "\n",
    "$$\\begin{aligned}\n",
    "\\mathbf x_k &= \\mathbf{Fx}_{k-1}  \\\\\n",
    "&= \\begin{bmatrix} 1 & \\Delta t \\\\ 0 & 1\\end{bmatrix}\n",
    "\\begin{bmatrix}x_{k-1} \\\\ \\dot x_{k-1}\\end{bmatrix}\n",
    "\\end{aligned}$$\n",
    "\n",
    "我们之所以能这样做，只是因为 $\\dot x = v$ 是可能的最简单的微分方程。几乎所有其他物理系统中的微分方程都更复杂，无法采用这种方法。\n",
    "\n",
    "*状态空间* 方法在阿波罗任务时期变得流行，这在很大程度上要归功于卡尔曼博士的工作。其思想很简单。用一组 $n$ 阶微分方程对系统进行建模。将它们转换为等价的一阶微分方程集合。将它们放入前面章节中使用的向量-矩阵形式：$\\dot{\\mathbf x} = \\mathbf{Ax} + \\mathbf{Bu}$。一旦达到这种形式，我们就会使用几种技术将这些线性微分方程转换为递归方程：\n",
    "\n",
    "$$ \\mathbf x_k = \\mathbf{Fx}_{k-1} + \\mathbf B_k\\mathbf u_k$$\n",
    "\n",
    "一些书籍将状态转移矩阵称为*基本矩阵*。许多书籍使用 $\\mathbf \\Phi$ 而不是 $\\mathbf F$。在很大程度上基于控制理论的资料倾向于使用这些形式。\n",
    "\n",
    "这些被称为*状态空间*方法，因为我们是用系统状态来表达微分方程的解。"
   ]
  },
  {
   "cell_type": "markdown",
   "id": "b2b06f3d",
   "metadata": {},
   "source": [
    "# 将高阶微分方程转化为一阶微分方程\n",
    "\n",
    "许多物理系统的模型需要带有控制输入 $u$ 的二阶或更高阶微分方程：\n",
    "\n",
    "$$a_n \\frac{d^ny}{dt^n} + a_{n-1} \\frac{d^{n-1}y}{dt^{n-1}} +  \\dots + a_2 \\frac{d^2y}{dt^2} + a_1 \\frac{dy}{dt} + a_0 = u$$\n",
    "\n",
    "状态空间方法需要一阶方程。任何高阶方程组都可以通过为导数定义额外的变量，然后进行求解来化简为一阶方程。\n",
    "\n",
    "我们来做一个例子。给定系统 $\\ddot{x} - 6\\dot x + 9x = u$，找到等价的一阶方程。我用点符号表示时间导数以便更清楚。\n",
    "\n",
    "第一步是将最高阶的项隔离到方程的一侧。\n",
    "\n",
    "$$\\ddot{x} = 6\\dot x - 9x + u$$\n",
    "\n",
    "我们定义两个新变量:\n",
    "\n",
    "$$\\begin{aligned} x_1(t) &= x \\\\\n",
    "x_2(t) &= \\dot x\n",
    "\\end{aligned}$$\n",
    "\n",
    "现在我们将这些代入原方程并求解。解得到一组关于这些新变量的一阶方程。通常为了方便起见，我们在符号表示中省略 $(t)$。\n",
    "\n",
    "我们知道 $\\dot x_1 = x_2$，以及 $\\dot x_2 = \\ddot{x}$。因此\n",
    "\n",
    "$$\\begin{aligned}\n",
    "\\dot x_2 &= \\ddot{x} \\\\\n",
    "         &= 6\\dot x - 9x + u\\\\\n",
    "         &= 6x_2-9x_1 + u\n",
    "\\end{aligned}$$\n",
    "\n",
    "因此，我们得到的一阶方程组是：\n",
    "\n",
    "$$\\begin{aligned}\\dot x_1 &= x_2 \\\\\n",
    "\\dot x_2 &= 6x_2-9x_1 + u\\end{aligned}$$\n",
    "\n",
    "练习一段时间你就能熟练掌握了。将最高阶项隔离出来，定义一个新变量及其导数，然后进行代换。"
   ]
  },
  {
   "cell_type": "markdown",
   "id": "25e8d1b8",
   "metadata": {},
   "source": [
    "# 一阶微分方程的状态空间形式\n",
    "\n",
    "从前一节定义的新变量代入：\n",
    "\n",
    "$$\\frac{dx_1}{dt} = x_2,\\,  \n",
    "\\frac{dx_2}{dt} = x_3, \\, ..., \\, \n",
    "\\frac{dx_{n-1}}{dt} = x_n$$\n",
    "\n",
    "代入一阶方程得到：\n",
    "\n",
    "$$\\frac{dx_n}{dt} = \\frac{1}{a_n}\\sum\\limits_{i=0}^{n-1}a_ix_{i+1} + \\frac{1}{a_n}u\n",
    "$$\n",
    "\n",
    "使用向量-矩阵表示法，我们有：\n",
    "\n",
    "$$\\begin{bmatrix}\\frac{dx_1}{dt} \\\\ \\frac{dx_2}{dt} \\\\ \\vdots \\\\ \\frac{dx_n}{dt}\\end{bmatrix} = \n",
    "\\begin{bmatrix}\\dot x_1 \\\\ \\dot x_2 \\\\ \\vdots \\\\ \\dot x_n\\end{bmatrix}=\n",
    "\\begin{bmatrix}0 & 1 & 0 &\\cdots & 0 \\\\\n",
    "0 & 0 & 1 & \\cdots & 0 \\\\\n",
    "\\vdots & \\vdots & \\vdots & \\ddots & \\vdots \\\\\n",
    "-\\frac{a_0}{a_n} & -\\frac{a_1}{a_n} & -\\frac{a_2}{a_n} & \\cdots & -\\frac{a_{n-1}}{a_n}\\end{bmatrix}\n",
    "\\begin{bmatrix}x_1 \\\\ x_2 \\\\ \\vdots \\\\ x_n\\end{bmatrix} + \n",
    "\\begin{bmatrix}0 \\\\ 0 \\\\ \\vdots \\\\ \\frac{1}{a_n}\\end{bmatrix}u$$\n",
    "\n",
    "然后我们将其写作 $\\dot{\\mathbf x} = \\mathbf{Ax} + \\mathbf{B}u$。"
   ]
  },
  {
   "cell_type": "markdown",
   "id": "dea8a098",
   "metadata": {},
   "source": [
    "# 寻找时不变系统的基本矩阵\n",
    "\n",
    "我们用状态空间形式表示系统方程，其中\n",
    "\n",
    "$$ \\dot{\\mathbf x} = \\mathbf{Ax}$$\n",
    "\n",
    "其中 $\\mathbf A$ 是系统动态矩阵，我们想要找到*基本矩阵* $\\mathbf F$，它用以下方程在时间间隔 $\\Delta t$ 内传播状态 $\\mathbf x$：\n",
    "\n",
    "$$\\begin{aligned}\n",
    "\\mathbf x(t_k) = \\mathbf F(\\Delta t)\\mathbf x(t_{k-1})\\end{aligned}$$\n",
    "\n",
    "换句话说，$\\mathbf A$ 是一组连续微分方程，而我们需要 $\\mathbf F$ 是一组离散线性方程，用于计算 $\\mathbf A$ 在离散时间步长内的变化。\n",
    "\n",
    "通常会省略 $t_k$ 和 $(\\Delta t)$，使用记号\n",
    "\n",
    "$$\\mathbf x_k = \\mathbf {Fx}_{k-1}$$\n",
    "\n",
    "总的来说，有三种常用的方法来为卡尔曼滤波器找到这个矩阵。最常用的技术是矩阵指数。线性时不变理论，也称为LTI系统理论，是第二种技术。最后，还有数值技术。你可能知道其他方法，但在卡尔曼滤波器的文献和实践中，最常遇到的就是这三种。"
   ]
  },
  {
   "cell_type": "markdown",
   "id": "f211d50e",
   "metadata": {},
   "source": [
    "# 矩阵指数\n",
    "\n",
    "求解方程 $\\frac{dx}{dt} = kx$ 可以通过以下步骤找到：\n",
    "\n",
    "$$\\begin{gathered}\\frac{dx}{dt} = kx \\\\\n",
    "\\frac{dx}{x} = k\\, dt \\\\\n",
    "\\int \\frac{1}{x}\\, dx = \\int k\\, dt \\\\\n",
    "\\log x = kt + c \\\\\n",
    "x = e^{kt+c} \\\\\n",
    "x = e^ce^{kt} \\\\\n",
    "x = c_0e^{kt}\\end{gathered}$$\n",
    "\n",
    "当 $t=0$ 时，$x=x_0$。将这些代入上述方程。\n",
    "\n",
    "$$\\begin{gathered}x_0 = c_0e^{k(0)} \\\\\n",
    "x_0 = c_01 \\\\\n",
    "x_0 = c_0 \\\\\n",
    "x = x_0e^{kt}\\end{gathered}$$\n",
    "\n",
    "用类似的数学方法，一阶方程的解是：\n",
    "\n",
    "$$\\dot{\\mathbf x} = \\mathbf{Ax} ,\\, \\, \\, \\mathbf x(0) = \\mathbf x_0$$\n",
    "\n",
    "其中 $\\mathbf A$ 是一个常数矩阵，是\n",
    "\n",
    "$$\\mathbf x = e^{\\mathbf At}\\mathbf x_0$$\n",
    "\n",
    "将 $F = e^{\\mathbf At}$ 代入，我们可以写成\n",
    "\n",
    "$$\\mathbf x_k = \\mathbf F\\mathbf x_{k-1}$$\n",
    "\n",
    "这就是我们要找的形式！我们将寻找基本\n",
    "\n",
    "矩阵的问题简化为寻找 $e^{\\mathbf At}$ 的值。\n",
    "\n",
    "$e^{\\mathbf At}$ 被称为[矩阵指数](https://en.wikipedia.org/wiki/Matrix_exponential)。它可以用以下幂级数计算：\n",
    "\n",
    "$$e^{\\mathbf At} = \\mathbf{I} + \\mathbf{A}t  + \\frac{(\\mathbf{A}t)^2}{2!} + \\frac{(\\mathbf{A}t)^3}{3!} + ... $$\n",
    "\n",
    "这个级数是通过对 $e^{\\mathbf At}$ 进行泰勒级数展开得到的，我在这里不会详细介绍。\n",
    "\n",
    "让我们利用这个来找到牛顿方程的解。假设速度为常数，用 $v$ 代替 $\\dot x$，我们得到线性矩阵-向量形式\n",
    "\n",
    "$$\\begin{bmatrix}\\dot x \\\\ \\dot v\\end{bmatrix} =\\begin{bmatrix}0&1\\\\0&0\\end{bmatrix} \\begin{bmatrix}x \\\\ v\\end{bmatrix}$$\n",
    "\n",
    "这是一个一阶微分方程，所以我们可以设 $\\mathbf{A}=\\begin{bmatrix}0&1\\\\0&0\\end{bmatrix}$，并解下面的方程。我将间隔 $\\Delta t$ 替换为 $t$，以强调基本矩阵是离散的：\n",
    "\n",
    "$$\\mathbf F = e^{\\mathbf A\\Delta t} = \\mathbf{I} + \\mathbf A\\Delta t  + \\frac{(\\mathbf A\\Delta t)^2}{2!} + \\frac{(\\mathbf A\\Delta t)^3}{3!} + ... $$\n",
    "\n",
    "如果你进行乘法运算，你会发现 $\\mathbf{A}^2=\\begin{bmatrix}0&0\\\\0&0\\end{bmatrix}$，这意味着所有更高幂次的 $\\mathbf{A}$ 也都是 $\\mathbf{0}$。因此，我们得到了一个精确的答案，而不需要无穷多个项：\n",
    "\n",
    "$$\n",
    "\\begin{aligned}\n",
    "\\mathbf F &=\\mathbf{I} + \\mathbf A \\Delta t + \\mathbf{0} \\\\\n",
    "&= \\begin{bmatrix}1&0\\\\0&1\\end{bmatrix} + \\begin{bmatrix}0&1\\\\0&0\\end{bmatrix}\\Delta t\\\\\n",
    "&= \\begin{bmatrix}1&\\Delta t\\\\0&1\\end{bmatrix}\n",
    "\\end{aligned}$$\n",
    "\n",
    "我们将这个代入 $\\mathbf x_k= \\mathbf{Fx}_{k-1}$ 得到\n",
    "\n",
    "$$\n",
    "\\begin{aligned}\n",
    "x_k &=\\begin{bmatrix}1&\\Delta t\\\\0&1\\end{bmatrix}x_{k-1}\n",
    "\\end{aligned}$$\n",
    "\n",
    "这个矩阵正是我们在**多元卡尔曼滤波器**章节中对恒定速度卡尔曼滤波器进行解析推导得到的矩阵。\n",
    "\n",
    "SciPy 的 linalg 模块包括一个用于计算矩阵指数的例程 `expm()`。它并不使用泰勒级数方法，而是使用[佩德算法近似](https://en.wikipedia.org/wiki/Pad%C3%A9_approximant)。有许多（至少19种）计算矩阵指数的方法，所有这些方法都存在数值困难[1]。你应该注意到这些问题，特别是当 $\\mathbf A$ 很大时。如果你搜索“佩德算法矩阵指数”，你会找到许多致力于解决这个问题的论文。\n",
    "\n",
    "在实践中，对于卡尔曼滤波器，我们通常只考虑泰勒级数的前两项，因此这可能不会成为你关注的问题。但不要假设我对这个问题的处理就是完整的，然后盲目尝试将这种技术用于其他问题，而不对这种技术的性能进行数值分析。有趣的是，解决 $e^{\\mathbf At}$ 的一个受欢迎的方法是使用广义的常微分方程求解器。换句话说，他们做的与我们相反——将 $\\mathbf A$ 转换成一组微分方程，然后使用数值技术求解这组方程！\n",
    "\n",
    "这里是使用 `expm()` 解决 $e^{\\mathbf At}$ 的一个例子。"
   ]
  },
  {
   "cell_type": "code",
   "execution_count": 4,
   "id": "84cfffa1",
   "metadata": {},
   "outputs": [
    {
     "data": {
      "text/plain": [
       "array([[1. , 0.1],\n",
       "       [0. , 1. ]])"
      ]
     },
     "execution_count": 4,
     "metadata": {},
     "output_type": "execute_result"
    }
   ],
   "source": [
    "import numpy as np\n",
    "from scipy.linalg import expm\n",
    "\n",
    "dt = 0.1\n",
    "A = np.array([[0, 1], \n",
    "              [0, 0]])\n",
    "expm(A*dt)"
   ]
  },
  {
   "cell_type": "markdown",
   "id": "6c51d55d",
   "metadata": {},
   "source": [
    "# 时不变系统\n",
    "\n",
    "如果系统的行为取决于时间，我们可以说一个动态系统由一阶微分方程描述：\n",
    "\n",
    "$$ g(t) = \\dot x$$\n",
    "\n",
    "然而，如果系统是*时不变*的，方程的形式则为：\n",
    "\n",
    "$$ f(x) = \\dot x$$\n",
    "\n",
    "什么是*时不变*呢？如果你在时间 $t$ 输入信号 $x$，它将输出一些信号 $f(x)$。如果你在时间 $t + \\Delta t$ 进行输入，输出信号将是相同的 $f(x)$，只是在时间上有所偏移。\n",
    "\n",
    "一个反例是 $x(t) = \\sin(t)$，其系统为 $f(x) = t\\,  x(t) = t \\sin(t)$。这不是时不变的；由于乘以 t，不同时间的值会有所不同。飞机也不是时不变的。如果你在稍后的时间对飞机进行控制输入，它的行为将会不同，因为它将消耗燃料，因此失去重量。较轻的重量会导致不同的行为。\n",
    "\n",
    "我们可以通过对每一边进行积分来解这些方程。我之前展示了对时不变系统 $v = \\dot x$ 进行积分。然而，对时不变方程 $\\dot x = f(x)$ 进行积分并不那么直接。使用*分离变量*技术，我们除以 $f(x)$ 并将 $dt$ 项移到右边，以便对每一边进行积分：\n",
    "\n",
    "\n",
    "$$\\begin{gathered}\n",
    "\\frac{dx}{dt} = f(x) \\\\\n",
    "\\int^x_{x_0} \\frac{1}{f(x)} dx = \\int^t_{t_0} dt\n",
    "\\end{gathered}$$\n",
    "\n",
    "如果我们令 $F(x) = \\int \\frac{1}{f(x)} dx$，我们会得到\n",
    "\n",
    "$$F(x) - F(x_0) = t-t_0$$\n",
    "\n",
    "然后我们解出 x，得到\n",
    "\n",
    "$$\\begin{gathered}\n",
    "F(x) = t - t_0 + F(x_0) \\\\\n",
    "x = F^{-1}[t-t_0 + F(x_0)]\n",
    "\\end{gathered}$$\n",
    "\n",
    "换句话说，我们需要找到 $F$ 的反函数。这并不是简单的问题，在STEM教育中有很多课程专门致力于找到这个棘手的解析解。\n",
    "\n",
    "然而，它们都是一些技巧，许多简单形式的 $f(x)$ 要么没有闭合形式的解，要么具有极大的困难。因此，实际工程师转向状态空间方法来寻找近似解。\n",
    "\n",
    "矩阵指数的优势在于我们可以用它来处理任意一组*时不变*的微分方程。然而，即使方程并非时不变，我们通常也会使用这种技术。例如，随着飞机飞行，它会燃烧燃料并减轻重量。然而，在一秒钟内失重很小，因此系统在这个时间步长上几乎是线性的。只要时间步长很短，我们的答案仍然会相当准确。"
   ]
  },
  {
   "cell_type": "markdown",
   "id": "c073caea",
   "metadata": {},
   "source": [
    "# 例子：质量-弹簧-阻尼器模型\n",
    "\n",
    "假设我们想要追踪弹簧上的一个质量，并连接到阻尼器，比如汽车的悬挂系统。其运动方程是 $m$ 为质量，$k$ 为弹簧常数，$c$ 为阻尼力，在某个输入 $u$ 下的运动方程为：\n",
    "\n",
    "$$m\\frac{d^2x}{dt^2} + c\\frac{dx}{dt} +kx = u$$\n",
    "\n",
    "为了符号的简便，我将其写成：\n",
    "\n",
    "$$m\\ddot x + c\\dot x + kx = u$$\n",
    "\n",
    "为了方便记号，我省略了 $(t)$。我可以通过设定 $x_1(t)=x(t)$ 来将其转化为一组一阶方程，并进行如下代换：\n",
    "\n",
    "$$\\begin{aligned}\n",
    "x_1 &= x \\\\\n",
    "x_2 &= \\dot x_1 \\\\\n",
    "\\dot x_2 &= \\ddot x_1 = \\ddot x\n",
    "\\end{aligned}$$\n",
    "\n",
    "这里常见的做法是省略了 $(t)$ 以方便记号。这给出了方程：\n",
    "\n",
    "$$m\\dot x_2 + c x_2 +kx_1 = u$$\n",
    "\n",
    "解出 $\\dot x_2$，我们得到一个一阶方程：\n",
    "\n",
    "$$\\dot x_2 = -\\frac{c}{m}x_2 - \\frac{k}{m}x_1 + \\frac{1}{m}u$$\n",
    "\n",
    "我们将其写成矩阵形式：\n",
    "\n",
    "$$\\begin{bmatrix} \\dot x_1 \\\\ \\dot x_2 \\end{bmatrix} = \n",
    "\\begin{bmatrix}0 & 1 \\\\ -\\frac{k}{m} & -\\frac{c}{m} \\end{bmatrix}\n",
    "\\begin{bmatrix} x_1 \\\\ x_2 \\end{bmatrix} + \n",
    "\\begin{bmatrix} 0 \\\\ \\frac{1}{m} \\end{bmatrix}u$$\n",
    "\n",
    "现在我们使用矩阵指数来找到状态转移矩阵：\n",
    "\n",
    "$$\\Phi(t) = e^{\\mathbf At} = \\mathbf{I} + \\mathbf At  + \\frac{(\\mathbf At)^2}{2!} + \\frac{(\\mathbf At)^3}{3!} + ... $$\n",
    "\n",
    "前两项给出：\n",
    "\n",
    "$$\\mathbf F = \\begin{bmatrix}1 & t \\\\ -\\frac{k}{m} t & 1-\\frac{c}{m} t \\end{bmatrix}$$\n",
    "\n",
    "这可能给出足够的精度，但也可能不够。你可以通过计算对应常数的 $\\frac{(\\mathbf At)^2}{2!}$ 并观察这个矩阵对结果的贡献来检验这一点。"
   ]
  },
  {
   "cell_type": "markdown",
   "id": "8f4d8e7b",
   "metadata": {},
   "source": [
    "# 线性时不变理论\n",
    "\n",
    "[*线性时不变理论*](https://en.wikipedia.org/wiki/LTI_system_theory)，也称为LTI系统理论，为我们提供了一种使用逆拉普拉斯变换来找到 $\\Phi$ 的方法。我在这本书中不会使用拉普拉斯变换。LTI系统理论告诉我们：\n",
    "\n",
    "$$ \\Phi(t) = \\mathcal{L}^{-1}[(s\\mathbf{I} - \\mathbf{A})^{-1}]$$\n",
    "\n",
    "我没有打算深入讨论这个问题，只是说一下拉普拉斯变换 $\\mathcal{L}$ 将信号转换为一个不包括时间的空间 $s$，但找到上述方程的解并不简单。如果你感兴趣，可以参考维基百科上关于LTI系统理论的文章进行了解。我提到LTI是因为你会发现一些文献使用它来为复杂的问题设计卡尔曼滤波器的矩阵。"
   ]
  },
  {
   "cell_type": "markdown",
   "id": "a5d0ee8d",
   "metadata": {},
   "source": [
    "# 数值解\n",
    "\n",
    "最后，还有数值技术来找到 $\\mathbf F$。随着滤波器变得更大，找到解析解变得非常繁琐（尽管像SymPy这样的包使其更容易）。C. F. van Loan [2] 发展了一种技术来数值计算 $\\Phi$ 和 $\\mathbf Q$。给定连续模型\n",
    "\n",
    "$$ \\dot x = Ax + Gw$$\n",
    "\n",
    "其中 $w$ 是单位白噪声，van Loan 的方法计算出 $\\mathbf F_k$ 和 $\\mathbf Q_k$。\n",
    "\n",
    "我在 `FilterPy` 中实现了 van Loan 的方法。你可以这样使用：\n",
    "\n",
    "```python\n",
    "from filterpy.common import van_loan_discretization\n",
    "\n",
    "A = np.array([[0., 1.], [-1., 0.]])\n",
    "G = np.array([[0.], [2.]]) # white noise scaling\n",
    "F, Q = van_loan_discretization(A, G, dt=0.1)\n",
    "```\n",
    "\n",
    "在 *数值积分的差分方程* 部分，我介绍了在卡尔曼滤波中非常常用的另一种替代方法。"
   ]
  },
  {
   "cell_type": "markdown",
   "id": "7038726f",
   "metadata": {},
   "source": [
    "# 过程噪声矩阵的设计\n",
    "\n",
    "通常来说，设计 $\\mathbf Q$ 矩阵是卡尔曼滤波器设计中最困难的部分之一。这是由于几个因素造成的。首先，数学需要对信号理论有良好的基础。其次，我们试图对我们知之甚少的某些事物中的噪声进行建模。想象一下试图为抛出的棒球建模过程噪声。我们可以将其建模为在空气中运动的一个球体，但这留下了许多未知因素——球的旋转和旋转衰减、带缝球的阻力系数、风力和空气密度的影响等等。我们为给定的过程模型开发了精确的数学解的方程，但由于过程模型不完整，$\\mathbf Q$ 的结果也将不完整。这对卡尔曼滤波器的行为有很多影响。如果 $\\mathbf Q$ 太小，滤波器将对其预测模型过于自信，并偏离实际解。如果 $\\mathbf Q$ 太大，滤波器将受到测量中的噪声的不当影响，并表现不佳。在实践中，我们花费大量时间运行模拟并评估收集的数据，以尝试选择适当的 $\\mathbf Q$ 值。但让我们首先看看数学原理。\n",
    "\n",
    "假设一个运动系统——可以使用牛顿运动方程建模的某个系统。我们可以对这个过程作出几种不同的假设。\n",
    "\n",
    "我们一直在使用一个过程模型：\n",
    "\n",
    "$$ \\dot{\\mathbf x} = \\mathbf{Ax} + \\mathbf{Bu} + \\mathbf{w}$$\n",
    "\n",
    "其中 $\\mathbf{w}$ 是过程噪声。运动系统是*连续*的——它们的输入和输出可以在任意时间点变化。然而，我们的卡尔曼滤波器是*离散*的（卡尔曼滤波器有连续形式，但我们在本书中不涉及）。我们以固定间隔对系统进行采样。因此，我们必须找到上述方程中噪声项的离散表示。这取决于我们对噪声行为的假设。我们将考虑两种不同的噪声模型。"
   ]
  },
  {
   "cell_type": "markdown",
   "id": "350f1b6d",
   "metadata": {},
   "source": [
    "# 连续白噪声模型\n",
    "\n",
    "我们使用牛顿方程来建模运动系统。我们要么使用位置和速度，要么使用位置、速度和加速度作为系统的模型。我们可以进一步推广，比如可以模拟加加速度、跃度、猛度等。通常我们不这样做，因为超出实际系统动力学范围的项会降低估计的准确性。\n",
    "\n",
    "假设我们需要对位置、速度和加速度进行建模。然后，我们可以假设每个离散时间步长内加速度是恒定的。当然，系统中存在过程噪声，因此实际上加速度并不是恒定的。由于未建模的外部力会随时间改变被跟踪对象的加速度。在这一部分，我们将假设加速度通过连续时间的零均值白噪声 $w(t)$ 发生变化。换句话说，我们假设速度的微小变化随时间平均为0（零均值）。\n",
    "\n",
    "由于噪声在不断变化，我们需要进行积分，以获得我们选择的离散化间隔内的离散噪声。我们不会在这里证明，但离散噪声的方程是：\n",
    "\n",
    "$$\\mathbf Q = \\int_0^{\\Delta t} \\mathbf F(t)\\mathbf{Q_c}\\mathbf F^\\mathsf{T}(t) dt$$\n",
    "\n",
    "其中 $\\mathbf{Q_c}$ 是连续噪声。总体思路应该很清楚。$\\mathbf F(t)\\mathbf{Q_c}\\mathbf F^\\mathsf{T}(t)$ 是基于我们的过程模型 $\\mathbf F(t)$ 在时刻 $t$ 的连续噪声的投影。我们想知道在离散时间间隔 $\\Delta t$ 内系统添加了多少噪声，因此我们要对该表达式在区间 $[0, \\Delta t]$ 上进行积分。\n",
    "\n",
    "我们知道牛顿系统的基本矩阵是：\n",
    "\n",
    "$$F = \\begin{bmatrix}1 & \\Delta t & {\\Delta t}^2/2 \\\\ 0 & 1 & \\Delta t\\\\ 0& 0& 1\\end{bmatrix}$$\n",
    "\n",
    "我们将连续噪声定义为:\n",
    "\n",
    "$$\\mathbf{Q_c} = \\begin{bmatrix}0&0&0\\\\0&0&0\\\\0&0&1\\end{bmatrix} \\Phi_s$$\n",
    "\n",
    "其中 $\\Phi_s$ 是白噪声的谱密度。这个公式是可以推导出来的，但超出了本书的范围。详细信息请参考任何关于随机过程的标准文本。实际上，我们经常不知道噪声的谱密度，因此这变成了一个“工程”因素——一个我们通过实验调整的数字，直到我们的滤波器按预期运行为止。你可以看到 $\\Phi_s$ 乘以的矩阵实际上将功率谱密度分配给了加速度项。这是有道理的；我们假设系统具有恒定的加速度，除了噪声引起的变化。噪声改变了加速度。\n",
    "\n",
    "我们可以自己进行这些计算，但我更喜欢使用 SymPy 来解方程。"
   ]
  },
  {
   "cell_type": "code",
   "execution_count": 5,
   "id": "d52ff35f",
   "metadata": {},
   "outputs": [
    {
     "data": {
      "text/latex": [
       "$\\displaystyle \\left[\\begin{matrix}\\frac{\\Delta{t}^{5}}{20} & \\frac{\\Delta{t}^{4}}{8} & \\frac{\\Delta{t}^{3}}{6}\\\\\\frac{\\Delta{t}^{4}}{8} & \\frac{\\Delta{t}^{3}}{3} & \\frac{\\Delta{t}^{2}}{2}\\\\\\frac{\\Delta{t}^{3}}{6} & \\frac{\\Delta{t}^{2}}{2} & \\Delta{t}\\end{matrix}\\right] \\Phi_{s}$"
      ],
      "text/plain": [
       "⎡         5           4           3⎤      \n",
       "⎢\\Delta{t}   \\Delta{t}   \\Delta{t} ⎥      \n",
       "⎢──────────  ──────────  ──────────⎥      \n",
       "⎢    20          8           6     ⎥      \n",
       "⎢                                  ⎥      \n",
       "⎢         4           3           2⎥      \n",
       "⎢\\Delta{t}   \\Delta{t}   \\Delta{t} ⎥      \n",
       "⎢──────────  ──────────  ──────────⎥⋅\\Phiₛ\n",
       "⎢    8           3           2     ⎥      \n",
       "⎢                                  ⎥      \n",
       "⎢         3           2            ⎥      \n",
       "⎢\\Delta{t}   \\Delta{t}             ⎥      \n",
       "⎢──────────  ──────────  \\Delta{t} ⎥      \n",
       "⎣    6           2                 ⎦      "
      ]
     },
     "execution_count": 5,
     "metadata": {},
     "output_type": "execute_result"
    }
   ],
   "source": [
    "import sympy\n",
    "from sympy import (init_printing, Matrix, MatMul, \n",
    "                   integrate, symbols)\n",
    "\n",
    "init_printing(use_latex='mathjax')\n",
    "dt, phi = symbols('\\Delta{t} \\Phi_s')\n",
    "F_k = Matrix([[1, dt, dt**2/2],\n",
    "              [0,  1,      dt],\n",
    "              [0,  0,       1]])\n",
    "Q_c = Matrix([[0, 0, 0],\n",
    "              [0, 0, 0],\n",
    "              [0, 0, 1]])*phi\n",
    "\n",
    "Q = integrate(F_k * Q_c * F_k.T, (dt, 0, dt))\n",
    "\n",
    "# factor phi out of the matrix to make it more readable\n",
    "Q = Q / phi\n",
    "MatMul(Q, phi)"
   ]
  },
  {
   "cell_type": "markdown",
   "id": "6c6aee22",
   "metadata": {},
   "source": [
    "为了完整起见，让我们计算零阶和一阶方程的公式。"
   ]
  },
  {
   "cell_type": "code",
   "execution_count": 6,
   "id": "40b96867",
   "metadata": {},
   "outputs": [
    {
     "name": "stdout",
     "output_type": "stream",
     "text": [
      "0th order discrete process noise\n"
     ]
    },
    {
     "data": {
      "text/latex": [
       "$\\displaystyle \\left[\\begin{matrix}\\Delta{t} \\Phi_{s}\\end{matrix}\\right]$"
      ],
      "text/plain": [
       "[\\Delta{t}⋅\\Phiₛ]"
      ]
     },
     "execution_count": 6,
     "metadata": {},
     "output_type": "execute_result"
    }
   ],
   "source": [
    "F_k = Matrix([[1]])\n",
    "Q_c = Matrix([[phi]])\n",
    "\n",
    "print('0th order discrete process noise')\n",
    "integrate(F_k*Q_c*F_k.T,(dt, 0, dt))"
   ]
  },
  {
   "cell_type": "code",
   "execution_count": 7,
   "id": "8e8bb9af",
   "metadata": {},
   "outputs": [
    {
     "name": "stdout",
     "output_type": "stream",
     "text": [
      "1st order discrete process noise\n"
     ]
    },
    {
     "data": {
      "text/latex": [
       "$\\displaystyle \\left[\\begin{matrix}\\frac{\\Delta{t}^{3}}{3} & \\frac{\\Delta{t}^{2}}{2}\\\\\\frac{\\Delta{t}^{2}}{2} & \\Delta{t}\\end{matrix}\\right] \\Phi_{s}$"
      ],
      "text/plain": [
       "⎡         3           2⎤      \n",
       "⎢\\Delta{t}   \\Delta{t} ⎥      \n",
       "⎢──────────  ──────────⎥      \n",
       "⎢    3           2     ⎥      \n",
       "⎢                      ⎥⋅\\Phiₛ\n",
       "⎢         2            ⎥      \n",
       "⎢\\Delta{t}             ⎥      \n",
       "⎢──────────  \\Delta{t} ⎥      \n",
       "⎣    2                 ⎦      "
      ]
     },
     "execution_count": 7,
     "metadata": {},
     "output_type": "execute_result"
    }
   ],
   "source": [
    "F_k = Matrix([[1, dt],\n",
    "              [0, 1]])\n",
    "Q_c = Matrix([[0, 0],\n",
    "              [0, 1]]) * phi\n",
    "\n",
    "Q = integrate(F_k * Q_c * F_k.T, (dt, 0, dt))\n",
    "\n",
    "print('1st order discrete process noise')\n",
    "# factor phi out of the matrix to make it more readable\n",
    "Q = Q / phi\n",
    "MatMul(Q, phi)"
   ]
  },
  {
   "cell_type": "code",
   "execution_count": null,
   "id": "e47fe340",
   "metadata": {},
   "outputs": [],
   "source": []
  },
  {
   "cell_type": "code",
   "execution_count": null,
   "id": "3fe61941",
   "metadata": {},
   "outputs": [],
   "source": []
  },
  {
   "cell_type": "code",
   "execution_count": null,
   "id": "854342da",
   "metadata": {},
   "outputs": [],
   "source": []
  },
  {
   "cell_type": "code",
   "execution_count": null,
   "id": "500ee8cc",
   "metadata": {},
   "outputs": [],
   "source": []
  },
  {
   "cell_type": "code",
   "execution_count": null,
   "id": "32639337",
   "metadata": {},
   "outputs": [],
   "source": []
  },
  {
   "cell_type": "code",
   "execution_count": null,
   "id": "38ca0f2b",
   "metadata": {},
   "outputs": [],
   "source": []
  },
  {
   "cell_type": "code",
   "execution_count": null,
   "id": "3901a17a",
   "metadata": {},
   "outputs": [],
   "source": []
  },
  {
   "cell_type": "code",
   "execution_count": null,
   "id": "18972f37",
   "metadata": {},
   "outputs": [],
   "source": []
  },
  {
   "cell_type": "code",
   "execution_count": null,
   "id": "38a6795f",
   "metadata": {},
   "outputs": [],
   "source": []
  },
  {
   "cell_type": "code",
   "execution_count": null,
   "id": "0e175b02",
   "metadata": {},
   "outputs": [],
   "source": []
  },
  {
   "cell_type": "code",
   "execution_count": null,
   "id": "86e1402e",
   "metadata": {},
   "outputs": [],
   "source": []
  },
  {
   "cell_type": "code",
   "execution_count": null,
   "id": "f9e13d12",
   "metadata": {},
   "outputs": [],
   "source": []
  },
  {
   "cell_type": "code",
   "execution_count": null,
   "id": "d9d7c4e2",
   "metadata": {},
   "outputs": [],
   "source": []
  },
  {
   "cell_type": "code",
   "execution_count": null,
   "id": "0596b176",
   "metadata": {},
   "outputs": [],
   "source": []
  },
  {
   "cell_type": "code",
   "execution_count": null,
   "id": "ecbecb1f",
   "metadata": {},
   "outputs": [],
   "source": []
  },
  {
   "cell_type": "code",
   "execution_count": null,
   "id": "ed5602c7",
   "metadata": {},
   "outputs": [],
   "source": []
  },
  {
   "cell_type": "code",
   "execution_count": null,
   "id": "16e63cec",
   "metadata": {},
   "outputs": [],
   "source": []
  },
  {
   "cell_type": "code",
   "execution_count": null,
   "id": "c38de523",
   "metadata": {},
   "outputs": [],
   "source": []
  },
  {
   "cell_type": "code",
   "execution_count": null,
   "id": "b766a9cc",
   "metadata": {},
   "outputs": [],
   "source": []
  },
  {
   "cell_type": "code",
   "execution_count": null,
   "id": "a63fd361",
   "metadata": {},
   "outputs": [],
   "source": []
  },
  {
   "cell_type": "code",
   "execution_count": null,
   "id": "68a803c5",
   "metadata": {},
   "outputs": [],
   "source": []
  },
  {
   "cell_type": "code",
   "execution_count": null,
   "id": "f2b09a06",
   "metadata": {},
   "outputs": [],
   "source": []
  },
  {
   "cell_type": "code",
   "execution_count": null,
   "id": "1dfc1049",
   "metadata": {},
   "outputs": [],
   "source": []
  },
  {
   "cell_type": "code",
   "execution_count": null,
   "id": "85cf8c48",
   "metadata": {},
   "outputs": [],
   "source": []
  },
  {
   "cell_type": "code",
   "execution_count": null,
   "id": "652d420c",
   "metadata": {},
   "outputs": [],
   "source": []
  },
  {
   "cell_type": "code",
   "execution_count": null,
   "id": "751b5239",
   "metadata": {},
   "outputs": [],
   "source": []
  },
  {
   "cell_type": "code",
   "execution_count": null,
   "id": "e023664d",
   "metadata": {},
   "outputs": [],
   "source": []
  },
  {
   "cell_type": "code",
   "execution_count": null,
   "id": "69c87a74",
   "metadata": {},
   "outputs": [],
   "source": []
  },
  {
   "cell_type": "code",
   "execution_count": null,
   "id": "865247bc",
   "metadata": {},
   "outputs": [],
   "source": []
  },
  {
   "cell_type": "code",
   "execution_count": null,
   "id": "485b97da",
   "metadata": {},
   "outputs": [],
   "source": []
  },
  {
   "cell_type": "code",
   "execution_count": null,
   "id": "28c4a0c3",
   "metadata": {},
   "outputs": [],
   "source": []
  },
  {
   "cell_type": "code",
   "execution_count": null,
   "id": "92857e6f",
   "metadata": {},
   "outputs": [],
   "source": []
  },
  {
   "cell_type": "code",
   "execution_count": null,
   "id": "abd0963c",
   "metadata": {},
   "outputs": [],
   "source": []
  },
  {
   "cell_type": "code",
   "execution_count": null,
   "id": "5198a1c9",
   "metadata": {},
   "outputs": [],
   "source": []
  },
  {
   "cell_type": "code",
   "execution_count": null,
   "id": "f4ed3b04",
   "metadata": {},
   "outputs": [],
   "source": []
  },
  {
   "cell_type": "code",
   "execution_count": null,
   "id": "c0c05aa0",
   "metadata": {},
   "outputs": [],
   "source": []
  },
  {
   "cell_type": "code",
   "execution_count": null,
   "id": "b798a1ef",
   "metadata": {},
   "outputs": [],
   "source": []
  },
  {
   "cell_type": "code",
   "execution_count": null,
   "id": "bcdc9d8f",
   "metadata": {},
   "outputs": [],
   "source": []
  },
  {
   "cell_type": "code",
   "execution_count": null,
   "id": "d8e2a107",
   "metadata": {},
   "outputs": [],
   "source": []
  },
  {
   "cell_type": "code",
   "execution_count": null,
   "id": "bda796d4",
   "metadata": {},
   "outputs": [],
   "source": []
  },
  {
   "cell_type": "code",
   "execution_count": null,
   "id": "e39e0c3a",
   "metadata": {},
   "outputs": [],
   "source": []
  },
  {
   "cell_type": "code",
   "execution_count": null,
   "id": "b206fb76",
   "metadata": {},
   "outputs": [],
   "source": []
  },
  {
   "cell_type": "code",
   "execution_count": null,
   "id": "e0610a91",
   "metadata": {},
   "outputs": [],
   "source": []
  },
  {
   "cell_type": "code",
   "execution_count": null,
   "id": "e5c6bae3",
   "metadata": {},
   "outputs": [],
   "source": []
  },
  {
   "cell_type": "code",
   "execution_count": null,
   "id": "41f69f22",
   "metadata": {},
   "outputs": [],
   "source": []
  },
  {
   "cell_type": "code",
   "execution_count": null,
   "id": "a15d5b1a",
   "metadata": {},
   "outputs": [],
   "source": []
  },
  {
   "cell_type": "code",
   "execution_count": null,
   "id": "6ecc3c58",
   "metadata": {},
   "outputs": [],
   "source": []
  },
  {
   "cell_type": "code",
   "execution_count": null,
   "id": "f8aa57f1",
   "metadata": {},
   "outputs": [],
   "source": []
  },
  {
   "cell_type": "code",
   "execution_count": null,
   "id": "eb01dc7e",
   "metadata": {},
   "outputs": [],
   "source": []
  },
  {
   "cell_type": "code",
   "execution_count": null,
   "id": "6b328423",
   "metadata": {},
   "outputs": [],
   "source": []
  },
  {
   "cell_type": "code",
   "execution_count": null,
   "id": "afd50b08",
   "metadata": {},
   "outputs": [],
   "source": []
  },
  {
   "cell_type": "code",
   "execution_count": null,
   "id": "a5abc22f",
   "metadata": {},
   "outputs": [],
   "source": []
  },
  {
   "cell_type": "code",
   "execution_count": null,
   "id": "1764ab6e",
   "metadata": {},
   "outputs": [],
   "source": []
  },
  {
   "cell_type": "code",
   "execution_count": null,
   "id": "164ecc23",
   "metadata": {},
   "outputs": [],
   "source": []
  },
  {
   "cell_type": "code",
   "execution_count": null,
   "id": "d69a206d",
   "metadata": {},
   "outputs": [],
   "source": []
  },
  {
   "cell_type": "code",
   "execution_count": null,
   "id": "b3b7b041",
   "metadata": {},
   "outputs": [],
   "source": []
  },
  {
   "cell_type": "code",
   "execution_count": null,
   "id": "388d5fdd",
   "metadata": {},
   "outputs": [],
   "source": []
  },
  {
   "cell_type": "code",
   "execution_count": null,
   "id": "abf86730",
   "metadata": {},
   "outputs": [],
   "source": []
  },
  {
   "cell_type": "code",
   "execution_count": null,
   "id": "1a8ebe2f",
   "metadata": {},
   "outputs": [],
   "source": []
  },
  {
   "cell_type": "code",
   "execution_count": null,
   "id": "abbc5532",
   "metadata": {},
   "outputs": [],
   "source": []
  },
  {
   "cell_type": "code",
   "execution_count": null,
   "id": "43644524",
   "metadata": {},
   "outputs": [],
   "source": []
  },
  {
   "cell_type": "code",
   "execution_count": null,
   "id": "8a0bc3ae",
   "metadata": {},
   "outputs": [],
   "source": []
  },
  {
   "cell_type": "code",
   "execution_count": null,
   "id": "ea0e30de",
   "metadata": {},
   "outputs": [],
   "source": []
  },
  {
   "cell_type": "code",
   "execution_count": null,
   "id": "0b6fce44",
   "metadata": {},
   "outputs": [],
   "source": []
  },
  {
   "cell_type": "code",
   "execution_count": null,
   "id": "66f45c1e",
   "metadata": {},
   "outputs": [],
   "source": []
  },
  {
   "cell_type": "code",
   "execution_count": null,
   "id": "d76200f8",
   "metadata": {},
   "outputs": [],
   "source": []
  },
  {
   "cell_type": "code",
   "execution_count": null,
   "id": "49dad567",
   "metadata": {},
   "outputs": [],
   "source": []
  },
  {
   "cell_type": "code",
   "execution_count": null,
   "id": "55466694",
   "metadata": {},
   "outputs": [],
   "source": []
  },
  {
   "cell_type": "code",
   "execution_count": null,
   "id": "10d99577",
   "metadata": {},
   "outputs": [],
   "source": []
  },
  {
   "cell_type": "code",
   "execution_count": null,
   "id": "283372ef",
   "metadata": {},
   "outputs": [],
   "source": []
  },
  {
   "cell_type": "code",
   "execution_count": null,
   "id": "30a76a65",
   "metadata": {},
   "outputs": [],
   "source": []
  },
  {
   "cell_type": "code",
   "execution_count": null,
   "id": "424c563e",
   "metadata": {},
   "outputs": [],
   "source": []
  },
  {
   "cell_type": "code",
   "execution_count": null,
   "id": "79487b79",
   "metadata": {},
   "outputs": [],
   "source": []
  },
  {
   "cell_type": "code",
   "execution_count": null,
   "id": "4ecc464d",
   "metadata": {},
   "outputs": [],
   "source": []
  },
  {
   "cell_type": "code",
   "execution_count": null,
   "id": "a8c97819",
   "metadata": {},
   "outputs": [],
   "source": []
  },
  {
   "cell_type": "code",
   "execution_count": null,
   "id": "afe319a2",
   "metadata": {},
   "outputs": [],
   "source": []
  },
  {
   "cell_type": "code",
   "execution_count": null,
   "id": "d8bf76df",
   "metadata": {},
   "outputs": [],
   "source": []
  },
  {
   "cell_type": "code",
   "execution_count": null,
   "id": "9eec8652",
   "metadata": {},
   "outputs": [],
   "source": []
  },
  {
   "cell_type": "code",
   "execution_count": null,
   "id": "503d18db",
   "metadata": {},
   "outputs": [],
   "source": []
  },
  {
   "cell_type": "code",
   "execution_count": null,
   "id": "8f6f485b",
   "metadata": {},
   "outputs": [],
   "source": []
  },
  {
   "cell_type": "code",
   "execution_count": null,
   "id": "f8c69144",
   "metadata": {},
   "outputs": [],
   "source": []
  },
  {
   "cell_type": "code",
   "execution_count": null,
   "id": "1790c860",
   "metadata": {},
   "outputs": [],
   "source": []
  },
  {
   "cell_type": "code",
   "execution_count": null,
   "id": "d540d8c2",
   "metadata": {},
   "outputs": [],
   "source": []
  },
  {
   "cell_type": "code",
   "execution_count": null,
   "id": "e6c22378",
   "metadata": {},
   "outputs": [],
   "source": []
  },
  {
   "cell_type": "code",
   "execution_count": null,
   "id": "705dcc52",
   "metadata": {},
   "outputs": [],
   "source": []
  },
  {
   "cell_type": "code",
   "execution_count": null,
   "id": "59477bd2",
   "metadata": {},
   "outputs": [],
   "source": []
  },
  {
   "cell_type": "code",
   "execution_count": null,
   "id": "e98d00eb",
   "metadata": {},
   "outputs": [],
   "source": []
  },
  {
   "cell_type": "code",
   "execution_count": null,
   "id": "d95b6813",
   "metadata": {},
   "outputs": [],
   "source": []
  },
  {
   "cell_type": "code",
   "execution_count": null,
   "id": "bcbe6f46",
   "metadata": {},
   "outputs": [],
   "source": []
  },
  {
   "cell_type": "code",
   "execution_count": null,
   "id": "13f6443f",
   "metadata": {},
   "outputs": [],
   "source": []
  },
  {
   "cell_type": "code",
   "execution_count": null,
   "id": "3a9d9562",
   "metadata": {},
   "outputs": [],
   "source": []
  },
  {
   "cell_type": "code",
   "execution_count": null,
   "id": "942ed80a",
   "metadata": {},
   "outputs": [],
   "source": []
  },
  {
   "cell_type": "code",
   "execution_count": null,
   "id": "4c25be90",
   "metadata": {},
   "outputs": [],
   "source": []
  },
  {
   "cell_type": "code",
   "execution_count": null,
   "id": "8ea998e3",
   "metadata": {},
   "outputs": [],
   "source": []
  },
  {
   "cell_type": "code",
   "execution_count": null,
   "id": "73807a35",
   "metadata": {},
   "outputs": [],
   "source": []
  },
  {
   "cell_type": "code",
   "execution_count": null,
   "id": "b1491c90",
   "metadata": {},
   "outputs": [],
   "source": []
  },
  {
   "cell_type": "code",
   "execution_count": null,
   "id": "c5e2b869",
   "metadata": {},
   "outputs": [],
   "source": []
  },
  {
   "cell_type": "code",
   "execution_count": null,
   "id": "8a8e1906",
   "metadata": {},
   "outputs": [],
   "source": []
  },
  {
   "cell_type": "code",
   "execution_count": null,
   "id": "0ca8483a",
   "metadata": {},
   "outputs": [],
   "source": []
  },
  {
   "cell_type": "code",
   "execution_count": null,
   "id": "2ceac625",
   "metadata": {},
   "outputs": [],
   "source": []
  },
  {
   "cell_type": "code",
   "execution_count": null,
   "id": "b0165a8a",
   "metadata": {},
   "outputs": [],
   "source": []
  },
  {
   "cell_type": "code",
   "execution_count": null,
   "id": "0acbc9dd",
   "metadata": {},
   "outputs": [],
   "source": []
  },
  {
   "cell_type": "code",
   "execution_count": null,
   "id": "9502a770",
   "metadata": {},
   "outputs": [],
   "source": []
  },
  {
   "cell_type": "code",
   "execution_count": null,
   "id": "156e1abd",
   "metadata": {},
   "outputs": [],
   "source": []
  },
  {
   "cell_type": "code",
   "execution_count": null,
   "id": "b12ee82d",
   "metadata": {},
   "outputs": [],
   "source": []
  },
  {
   "cell_type": "code",
   "execution_count": null,
   "id": "9c63f391",
   "metadata": {},
   "outputs": [],
   "source": []
  },
  {
   "cell_type": "code",
   "execution_count": null,
   "id": "f664f234",
   "metadata": {},
   "outputs": [],
   "source": []
  },
  {
   "cell_type": "code",
   "execution_count": null,
   "id": "bdb3b4d5",
   "metadata": {},
   "outputs": [],
   "source": []
  },
  {
   "cell_type": "code",
   "execution_count": null,
   "id": "0dc58a8a",
   "metadata": {},
   "outputs": [],
   "source": []
  },
  {
   "cell_type": "code",
   "execution_count": null,
   "id": "ecc1d087",
   "metadata": {},
   "outputs": [],
   "source": []
  },
  {
   "cell_type": "code",
   "execution_count": null,
   "id": "e13c12f8",
   "metadata": {},
   "outputs": [],
   "source": []
  },
  {
   "cell_type": "code",
   "execution_count": null,
   "id": "d386b2b3",
   "metadata": {},
   "outputs": [],
   "source": []
  },
  {
   "cell_type": "code",
   "execution_count": null,
   "id": "00854027",
   "metadata": {},
   "outputs": [],
   "source": []
  },
  {
   "cell_type": "code",
   "execution_count": null,
   "id": "091dc1d1",
   "metadata": {},
   "outputs": [],
   "source": []
  },
  {
   "cell_type": "code",
   "execution_count": null,
   "id": "72777ae0",
   "metadata": {},
   "outputs": [],
   "source": []
  }
 ],
 "metadata": {
  "kernelspec": {
   "display_name": "Python 3 (ipykernel)",
   "language": "python",
   "name": "python3"
  },
  "language_info": {
   "codemirror_mode": {
    "name": "ipython",
    "version": 3
   },
   "file_extension": ".py",
   "mimetype": "text/x-python",
   "name": "python",
   "nbconvert_exporter": "python",
   "pygments_lexer": "ipython3",
   "version": "3.8.10"
  }
 },
 "nbformat": 4,
 "nbformat_minor": 5
}
